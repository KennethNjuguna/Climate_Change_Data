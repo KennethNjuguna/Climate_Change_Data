{
 "cells": [
  {
   "cell_type": "code",
   "execution_count": 1,
   "id": "44bc2f79",
   "metadata": {
    "_cell_guid": "b1076dfc-b9ad-4769-8c92-a6c4dae69d19",
    "_uuid": "8f2839f25d086af736a60e9eeb907d3b93b6e0e5",
    "execution": {
     "iopub.execute_input": "2023-07-02T14:00:02.370966Z",
     "iopub.status.busy": "2023-07-02T14:00:02.370620Z",
     "iopub.status.idle": "2023-07-02T14:00:02.384934Z",
     "shell.execute_reply": "2023-07-02T14:00:02.384058Z"
    },
    "papermill": {
     "duration": 0.023209,
     "end_time": "2023-07-02T14:00:02.387734",
     "exception": false,
     "start_time": "2023-07-02T14:00:02.364525",
     "status": "completed"
    },
    "tags": []
   },
   "outputs": [
    {
     "name": "stdout",
     "output_type": "stream",
     "text": [
      "/kaggle/input/climate-change-data/climate_change_data.csv\n"
     ]
    }
   ],
   "source": [
    "# This Python 3 environment comes with many helpful analytics libraries installed\n",
    "# It is defined by the kaggle/python Docker image: https://github.com/kaggle/docker-python\n",
    "# For example, here's several helpful packages to load\n",
    "\n",
    "import numpy as np # linear algebra\n",
    "import pandas as pd # data processing, CSV file I/O (e.g. pd.read_csv)\n",
    "\n",
    "# Input data files are available in the read-only \"../input/\" directory\n",
    "# For example, running this (by clicking run or pressing Shift+Enter) will list all files under the input directory\n",
    "\n",
    "import os\n",
    "for dirname, _, filenames in os.walk('/kaggle/input'):\n",
    "    for filename in filenames:\n",
    "        print(os.path.join(dirname, filename))\n",
    "\n",
    "# You can write up to 20GB to the current directory (/kaggle/working/) that gets preserved as output when you create a version using \"Save & Run All\" \n",
    "# You can also write temporary files to /kaggle/temp/, but they won't be saved outside of the current session"
   ]
  },
  {
   "cell_type": "markdown",
   "id": "f0b71099",
   "metadata": {
    "papermill": {
     "duration": 0.003359,
     "end_time": "2023-07-02T14:00:02.395015",
     "exception": false,
     "start_time": "2023-07-02T14:00:02.391656",
     "status": "completed"
    },
    "tags": []
   },
   "source": [
    "**Import Needed libraries**"
   ]
  },
  {
   "cell_type": "code",
   "execution_count": 2,
   "id": "6284fa11",
   "metadata": {
    "execution": {
     "iopub.execute_input": "2023-07-02T14:00:02.405819Z",
     "iopub.status.busy": "2023-07-02T14:00:02.405473Z",
     "iopub.status.idle": "2023-07-02T14:00:04.263282Z",
     "shell.execute_reply": "2023-07-02T14:00:04.261412Z"
    },
    "papermill": {
     "duration": 1.866764,
     "end_time": "2023-07-02T14:00:04.266403",
     "exception": false,
     "start_time": "2023-07-02T14:00:02.399639",
     "status": "completed"
    },
    "tags": []
   },
   "outputs": [],
   "source": [
    "import pandas as pd\n",
    "import seaborn as sns\n",
    "import matplotlib.pyplot as plt\n",
    "import numpy as np\n"
   ]
  },
  {
   "cell_type": "markdown",
   "id": "73996560",
   "metadata": {
    "papermill": {
     "duration": 0.003316,
     "end_time": "2023-07-02T14:00:04.273603",
     "exception": false,
     "start_time": "2023-07-02T14:00:04.270287",
     "status": "completed"
    },
    "tags": []
   },
   "source": [
    "**Import the data set- Climate change data set**"
   ]
  },
  {
   "cell_type": "code",
   "execution_count": 3,
   "id": "377d6bee",
   "metadata": {
    "execution": {
     "iopub.execute_input": "2023-07-02T14:00:04.283710Z",
     "iopub.status.busy": "2023-07-02T14:00:04.283235Z",
     "iopub.status.idle": "2023-07-02T14:00:04.366153Z",
     "shell.execute_reply": "2023-07-02T14:00:04.364162Z"
    },
    "papermill": {
     "duration": 0.091653,
     "end_time": "2023-07-02T14:00:04.368749",
     "exception": false,
     "start_time": "2023-07-02T14:00:04.277096",
     "status": "completed"
    },
    "tags": []
   },
   "outputs": [],
   "source": [
    "climatechange= pd.read_csv(\"/kaggle/input/climate-change-data/climate_change_data.csv\")"
   ]
  },
  {
   "cell_type": "markdown",
   "id": "6889b7f2",
   "metadata": {
    "papermill": {
     "duration": 0.00395,
     "end_time": "2023-07-02T14:00:04.376494",
     "exception": false,
     "start_time": "2023-07-02T14:00:04.372544",
     "status": "completed"
    },
    "tags": []
   },
   "source": []
  },
  {
   "cell_type": "markdown",
   "id": "2f336b90",
   "metadata": {
    "papermill": {
     "duration": 0.003166,
     "end_time": "2023-07-02T14:00:04.383349",
     "exception": false,
     "start_time": "2023-07-02T14:00:04.380183",
     "status": "completed"
    },
    "tags": []
   },
   "source": [
    "**Check the first rows of the climate change dataset**"
   ]
  },
  {
   "cell_type": "code",
   "execution_count": 4,
   "id": "2089e6da",
   "metadata": {
    "execution": {
     "iopub.execute_input": "2023-07-02T14:00:04.394332Z",
     "iopub.status.busy": "2023-07-02T14:00:04.393199Z",
     "iopub.status.idle": "2023-07-02T14:00:04.432638Z",
     "shell.execute_reply": "2023-07-02T14:00:04.431312Z"
    },
    "papermill": {
     "duration": 0.046089,
     "end_time": "2023-07-02T14:00:04.434478",
     "exception": false,
     "start_time": "2023-07-02T14:00:04.388389",
     "status": "completed"
    },
    "tags": []
   },
   "outputs": [
    {
     "data": {
      "text/html": [
       "<div>\n",
       "<style scoped>\n",
       "    .dataframe tbody tr th:only-of-type {\n",
       "        vertical-align: middle;\n",
       "    }\n",
       "\n",
       "    .dataframe tbody tr th {\n",
       "        vertical-align: top;\n",
       "    }\n",
       "\n",
       "    .dataframe thead th {\n",
       "        text-align: right;\n",
       "    }\n",
       "</style>\n",
       "<table border=\"1\" class=\"dataframe\">\n",
       "  <thead>\n",
       "    <tr style=\"text-align: right;\">\n",
       "      <th></th>\n",
       "      <th>Date</th>\n",
       "      <th>Location</th>\n",
       "      <th>Country</th>\n",
       "      <th>Temperature</th>\n",
       "      <th>CO2 Emissions</th>\n",
       "      <th>Sea Level Rise</th>\n",
       "      <th>Precipitation</th>\n",
       "      <th>Humidity</th>\n",
       "      <th>Wind Speed</th>\n",
       "    </tr>\n",
       "  </thead>\n",
       "  <tbody>\n",
       "    <tr>\n",
       "      <th>0</th>\n",
       "      <td>2000-01-01 00:00:00.000000000</td>\n",
       "      <td>New Williamtown</td>\n",
       "      <td>Latvia</td>\n",
       "      <td>10.688986</td>\n",
       "      <td>403.118903</td>\n",
       "      <td>0.717506</td>\n",
       "      <td>13.835237</td>\n",
       "      <td>23.631256</td>\n",
       "      <td>18.492026</td>\n",
       "    </tr>\n",
       "    <tr>\n",
       "      <th>1</th>\n",
       "      <td>2000-01-01 20:09:43.258325832</td>\n",
       "      <td>North Rachel</td>\n",
       "      <td>South Africa</td>\n",
       "      <td>13.814430</td>\n",
       "      <td>396.663499</td>\n",
       "      <td>1.205715</td>\n",
       "      <td>40.974084</td>\n",
       "      <td>43.982946</td>\n",
       "      <td>34.249300</td>\n",
       "    </tr>\n",
       "    <tr>\n",
       "      <th>2</th>\n",
       "      <td>2000-01-02 16:19:26.516651665</td>\n",
       "      <td>West Williamland</td>\n",
       "      <td>French Guiana</td>\n",
       "      <td>27.323718</td>\n",
       "      <td>451.553155</td>\n",
       "      <td>-0.160783</td>\n",
       "      <td>42.697931</td>\n",
       "      <td>96.652600</td>\n",
       "      <td>34.124261</td>\n",
       "    </tr>\n",
       "    <tr>\n",
       "      <th>3</th>\n",
       "      <td>2000-01-03 12:29:09.774977497</td>\n",
       "      <td>South David</td>\n",
       "      <td>Vietnam</td>\n",
       "      <td>12.309581</td>\n",
       "      <td>422.404983</td>\n",
       "      <td>-0.475931</td>\n",
       "      <td>5.193341</td>\n",
       "      <td>47.467938</td>\n",
       "      <td>8.554563</td>\n",
       "    </tr>\n",
       "    <tr>\n",
       "      <th>4</th>\n",
       "      <td>2000-01-04 08:38:53.033303330</td>\n",
       "      <td>New Scottburgh</td>\n",
       "      <td>Moldova</td>\n",
       "      <td>13.210885</td>\n",
       "      <td>410.472999</td>\n",
       "      <td>1.135757</td>\n",
       "      <td>78.695280</td>\n",
       "      <td>61.789672</td>\n",
       "      <td>8.001164</td>\n",
       "    </tr>\n",
       "  </tbody>\n",
       "</table>\n",
       "</div>"
      ],
      "text/plain": [
       "                            Date          Location        Country  \\\n",
       "0  2000-01-01 00:00:00.000000000   New Williamtown         Latvia   \n",
       "1  2000-01-01 20:09:43.258325832      North Rachel   South Africa   \n",
       "2  2000-01-02 16:19:26.516651665  West Williamland  French Guiana   \n",
       "3  2000-01-03 12:29:09.774977497       South David        Vietnam   \n",
       "4  2000-01-04 08:38:53.033303330    New Scottburgh        Moldova   \n",
       "\n",
       "   Temperature  CO2 Emissions  Sea Level Rise  Precipitation   Humidity  \\\n",
       "0    10.688986     403.118903        0.717506      13.835237  23.631256   \n",
       "1    13.814430     396.663499        1.205715      40.974084  43.982946   \n",
       "2    27.323718     451.553155       -0.160783      42.697931  96.652600   \n",
       "3    12.309581     422.404983       -0.475931       5.193341  47.467938   \n",
       "4    13.210885     410.472999        1.135757      78.695280  61.789672   \n",
       "\n",
       "   Wind Speed  \n",
       "0   18.492026  \n",
       "1   34.249300  \n",
       "2   34.124261  \n",
       "3    8.554563  \n",
       "4    8.001164  "
      ]
     },
     "execution_count": 4,
     "metadata": {},
     "output_type": "execute_result"
    }
   ],
   "source": [
    "climatechange.head()"
   ]
  },
  {
   "cell_type": "markdown",
   "id": "9f74f4d7",
   "metadata": {
    "papermill": {
     "duration": 0.003381,
     "end_time": "2023-07-02T14:00:04.441823",
     "exception": false,
     "start_time": "2023-07-02T14:00:04.438442",
     "status": "completed"
    },
    "tags": []
   },
   "source": [
    "**Check the data rows in the last five rows**"
   ]
  },
  {
   "cell_type": "code",
   "execution_count": 5,
   "id": "750db602",
   "metadata": {
    "execution": {
     "iopub.execute_input": "2023-07-02T14:00:04.450335Z",
     "iopub.status.busy": "2023-07-02T14:00:04.449962Z",
     "iopub.status.idle": "2023-07-02T14:00:04.465760Z",
     "shell.execute_reply": "2023-07-02T14:00:04.464477Z"
    },
    "papermill": {
     "duration": 0.023625,
     "end_time": "2023-07-02T14:00:04.468838",
     "exception": false,
     "start_time": "2023-07-02T14:00:04.445213",
     "status": "completed"
    },
    "tags": []
   },
   "outputs": [
    {
     "data": {
      "text/html": [
       "<div>\n",
       "<style scoped>\n",
       "    .dataframe tbody tr th:only-of-type {\n",
       "        vertical-align: middle;\n",
       "    }\n",
       "\n",
       "    .dataframe tbody tr th {\n",
       "        vertical-align: top;\n",
       "    }\n",
       "\n",
       "    .dataframe thead th {\n",
       "        text-align: right;\n",
       "    }\n",
       "</style>\n",
       "<table border=\"1\" class=\"dataframe\">\n",
       "  <thead>\n",
       "    <tr style=\"text-align: right;\">\n",
       "      <th></th>\n",
       "      <th>Date</th>\n",
       "      <th>Location</th>\n",
       "      <th>Country</th>\n",
       "      <th>Temperature</th>\n",
       "      <th>CO2 Emissions</th>\n",
       "      <th>Sea Level Rise</th>\n",
       "      <th>Precipitation</th>\n",
       "      <th>Humidity</th>\n",
       "      <th>Wind Speed</th>\n",
       "    </tr>\n",
       "  </thead>\n",
       "  <tbody>\n",
       "    <tr>\n",
       "      <th>9995</th>\n",
       "      <td>2022-12-27 15:21:06.966696576</td>\n",
       "      <td>South Elaineberg</td>\n",
       "      <td>Bhutan</td>\n",
       "      <td>15.020523</td>\n",
       "      <td>391.379537</td>\n",
       "      <td>-1.452243</td>\n",
       "      <td>93.417109</td>\n",
       "      <td>25.293814</td>\n",
       "      <td>6.531866</td>\n",
       "    </tr>\n",
       "    <tr>\n",
       "      <th>9996</th>\n",
       "      <td>2022-12-28 11:30:50.225022464</td>\n",
       "      <td>Leblancville</td>\n",
       "      <td>Congo</td>\n",
       "      <td>16.772451</td>\n",
       "      <td>346.921190</td>\n",
       "      <td>0.543616</td>\n",
       "      <td>49.882947</td>\n",
       "      <td>96.787402</td>\n",
       "      <td>42.249014</td>\n",
       "    </tr>\n",
       "    <tr>\n",
       "      <th>9997</th>\n",
       "      <td>2022-12-29 07:40:33.483348224</td>\n",
       "      <td>West Stephanie</td>\n",
       "      <td>Argentina</td>\n",
       "      <td>22.370025</td>\n",
       "      <td>466.042136</td>\n",
       "      <td>1.026704</td>\n",
       "      <td>30.659841</td>\n",
       "      <td>15.211825</td>\n",
       "      <td>18.293708</td>\n",
       "    </tr>\n",
       "    <tr>\n",
       "      <th>9998</th>\n",
       "      <td>2022-12-30 03:50:16.741674112</td>\n",
       "      <td>Port Steven</td>\n",
       "      <td>Albania</td>\n",
       "      <td>19.430853</td>\n",
       "      <td>337.899776</td>\n",
       "      <td>-0.895329</td>\n",
       "      <td>18.932275</td>\n",
       "      <td>82.774520</td>\n",
       "      <td>42.424255</td>\n",
       "    </tr>\n",
       "    <tr>\n",
       "      <th>9999</th>\n",
       "      <td>2022-12-31 00:00:00.000000000</td>\n",
       "      <td>West Anthonyburgh</td>\n",
       "      <td>Sao Tome and Principe</td>\n",
       "      <td>12.661928</td>\n",
       "      <td>381.172746</td>\n",
       "      <td>2.260788</td>\n",
       "      <td>78.339658</td>\n",
       "      <td>99.243923</td>\n",
       "      <td>41.856539</td>\n",
       "    </tr>\n",
       "  </tbody>\n",
       "</table>\n",
       "</div>"
      ],
      "text/plain": [
       "                               Date           Location                Country  \\\n",
       "9995  2022-12-27 15:21:06.966696576   South Elaineberg                 Bhutan   \n",
       "9996  2022-12-28 11:30:50.225022464       Leblancville                  Congo   \n",
       "9997  2022-12-29 07:40:33.483348224     West Stephanie              Argentina   \n",
       "9998  2022-12-30 03:50:16.741674112        Port Steven                Albania   \n",
       "9999  2022-12-31 00:00:00.000000000  West Anthonyburgh  Sao Tome and Principe   \n",
       "\n",
       "      Temperature  CO2 Emissions  Sea Level Rise  Precipitation   Humidity  \\\n",
       "9995    15.020523     391.379537       -1.452243      93.417109  25.293814   \n",
       "9996    16.772451     346.921190        0.543616      49.882947  96.787402   \n",
       "9997    22.370025     466.042136        1.026704      30.659841  15.211825   \n",
       "9998    19.430853     337.899776       -0.895329      18.932275  82.774520   \n",
       "9999    12.661928     381.172746        2.260788      78.339658  99.243923   \n",
       "\n",
       "      Wind Speed  \n",
       "9995    6.531866  \n",
       "9996   42.249014  \n",
       "9997   18.293708  \n",
       "9998   42.424255  \n",
       "9999   41.856539  "
      ]
     },
     "execution_count": 5,
     "metadata": {},
     "output_type": "execute_result"
    }
   ],
   "source": [
    "climatechange.tail()"
   ]
  },
  {
   "cell_type": "markdown",
   "id": "063a0e0e",
   "metadata": {
    "papermill": {
     "duration": 0.004021,
     "end_time": "2023-07-02T14:00:04.477222",
     "exception": false,
     "start_time": "2023-07-02T14:00:04.473201",
     "status": "completed"
    },
    "tags": []
   },
   "source": [
    "**Check the datatypes of each column**"
   ]
  },
  {
   "cell_type": "code",
   "execution_count": 6,
   "id": "ae801411",
   "metadata": {
    "execution": {
     "iopub.execute_input": "2023-07-02T14:00:04.487042Z",
     "iopub.status.busy": "2023-07-02T14:00:04.486649Z",
     "iopub.status.idle": "2023-07-02T14:00:04.495664Z",
     "shell.execute_reply": "2023-07-02T14:00:04.494589Z"
    },
    "papermill": {
     "duration": 0.017885,
     "end_time": "2023-07-02T14:00:04.499199",
     "exception": false,
     "start_time": "2023-07-02T14:00:04.481314",
     "status": "completed"
    },
    "tags": []
   },
   "outputs": [
    {
     "data": {
      "text/plain": [
       "Date               object\n",
       "Location           object\n",
       "Country            object\n",
       "Temperature       float64\n",
       "CO2 Emissions     float64\n",
       "Sea Level Rise    float64\n",
       "Precipitation     float64\n",
       "Humidity          float64\n",
       "Wind Speed        float64\n",
       "dtype: object"
      ]
     },
     "execution_count": 6,
     "metadata": {},
     "output_type": "execute_result"
    }
   ],
   "source": [
    "climatechange.dtypes"
   ]
  },
  {
   "cell_type": "markdown",
   "id": "9883e326",
   "metadata": {
    "papermill": {
     "duration": 0.005509,
     "end_time": "2023-07-02T14:00:04.510902",
     "exception": false,
     "start_time": "2023-07-02T14:00:04.505393",
     "status": "completed"
    },
    "tags": []
   },
   "source": [
    "**Describe the stastical data in the Dataset**"
   ]
  },
  {
   "cell_type": "code",
   "execution_count": 7,
   "id": "f3df86ac",
   "metadata": {
    "execution": {
     "iopub.execute_input": "2023-07-02T14:00:04.522071Z",
     "iopub.status.busy": "2023-07-02T14:00:04.521631Z",
     "iopub.status.idle": "2023-07-02T14:00:04.534429Z",
     "shell.execute_reply": "2023-07-02T14:00:04.532693Z"
    },
    "papermill": {
     "duration": 0.02175,
     "end_time": "2023-07-02T14:00:04.537687",
     "exception": false,
     "start_time": "2023-07-02T14:00:04.515937",
     "status": "completed"
    },
    "tags": []
   },
   "outputs": [
    {
     "data": {
      "text/plain": [
       "<bound method DataFrame.info of                                Date           Location                Country  \\\n",
       "0     2000-01-01 00:00:00.000000000    New Williamtown                 Latvia   \n",
       "1     2000-01-01 20:09:43.258325832       North Rachel           South Africa   \n",
       "2     2000-01-02 16:19:26.516651665   West Williamland          French Guiana   \n",
       "3     2000-01-03 12:29:09.774977497        South David                Vietnam   \n",
       "4     2000-01-04 08:38:53.033303330     New Scottburgh                Moldova   \n",
       "...                             ...                ...                    ...   \n",
       "9995  2022-12-27 15:21:06.966696576   South Elaineberg                 Bhutan   \n",
       "9996  2022-12-28 11:30:50.225022464       Leblancville                  Congo   \n",
       "9997  2022-12-29 07:40:33.483348224     West Stephanie              Argentina   \n",
       "9998  2022-12-30 03:50:16.741674112        Port Steven                Albania   \n",
       "9999  2022-12-31 00:00:00.000000000  West Anthonyburgh  Sao Tome and Principe   \n",
       "\n",
       "      Temperature  CO2 Emissions  Sea Level Rise  Precipitation   Humidity  \\\n",
       "0       10.688986     403.118903        0.717506      13.835237  23.631256   \n",
       "1       13.814430     396.663499        1.205715      40.974084  43.982946   \n",
       "2       27.323718     451.553155       -0.160783      42.697931  96.652600   \n",
       "3       12.309581     422.404983       -0.475931       5.193341  47.467938   \n",
       "4       13.210885     410.472999        1.135757      78.695280  61.789672   \n",
       "...           ...            ...             ...            ...        ...   \n",
       "9995    15.020523     391.379537       -1.452243      93.417109  25.293814   \n",
       "9996    16.772451     346.921190        0.543616      49.882947  96.787402   \n",
       "9997    22.370025     466.042136        1.026704      30.659841  15.211825   \n",
       "9998    19.430853     337.899776       -0.895329      18.932275  82.774520   \n",
       "9999    12.661928     381.172746        2.260788      78.339658  99.243923   \n",
       "\n",
       "      Wind Speed  \n",
       "0      18.492026  \n",
       "1      34.249300  \n",
       "2      34.124261  \n",
       "3       8.554563  \n",
       "4       8.001164  \n",
       "...          ...  \n",
       "9995    6.531866  \n",
       "9996   42.249014  \n",
       "9997   18.293708  \n",
       "9998   42.424255  \n",
       "9999   41.856539  \n",
       "\n",
       "[10000 rows x 9 columns]>"
      ]
     },
     "execution_count": 7,
     "metadata": {},
     "output_type": "execute_result"
    }
   ],
   "source": [
    "climatechange.info"
   ]
  },
  {
   "cell_type": "markdown",
   "id": "e052cd33",
   "metadata": {
    "papermill": {
     "duration": 0.003633,
     "end_time": "2023-07-02T14:00:04.545800",
     "exception": false,
     "start_time": "2023-07-02T14:00:04.542167",
     "status": "completed"
    },
    "tags": []
   },
   "source": []
  },
  {
   "cell_type": "markdown",
   "id": "48fcd7cf",
   "metadata": {
    "papermill": {
     "duration": 0.003652,
     "end_time": "2023-07-02T14:00:04.553240",
     "exception": false,
     "start_time": "2023-07-02T14:00:04.549588",
     "status": "completed"
    },
    "tags": []
   },
   "source": [
    "[Data Cleaning the Climate Change Dataset](http://https://www.analyticsvidhya.com/blog/2021/06/data-cleaning-using-pandas/)"
   ]
  }
 ],
 "metadata": {
  "kernelspec": {
   "display_name": "Python 3",
   "language": "python",
   "name": "python3"
  },
  "language_info": {
   "codemirror_mode": {
    "name": "ipython",
    "version": 3
   },
   "file_extension": ".py",
   "mimetype": "text/x-python",
   "name": "python",
   "nbconvert_exporter": "python",
   "pygments_lexer": "ipython3",
   "version": "3.10.10"
  },
  "papermill": {
   "default_parameters": {},
   "duration": 16.909847,
   "end_time": "2023-07-02T14:00:05.882032",
   "environment_variables": {},
   "exception": null,
   "input_path": "__notebook__.ipynb",
   "output_path": "__notebook__.ipynb",
   "parameters": {},
   "start_time": "2023-07-02T13:59:48.972185",
   "version": "2.4.0"
  }
 },
 "nbformat": 4,
 "nbformat_minor": 5
}
